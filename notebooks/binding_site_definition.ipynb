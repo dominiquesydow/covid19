{
 "cells": [
  {
   "cell_type": "markdown",
   "metadata": {},
   "source": [
    "# COVID-19: Main protease binding site defined by XChem ligands"
   ]
  },
  {
   "cell_type": "markdown",
   "metadata": {},
   "source": [
    "Aim of this notebook:\n",
    "    \n",
    "- Load all XChem structures in Biopython\n",
    "- Get residues in radius cutoff of ligand centroids\n",
    "- Find overlapping residues across all structures (by residue coverage threshold)"
   ]
  },
  {
   "cell_type": "markdown",
   "metadata": {},
   "source": [
    "## Data\n",
    "\n",
    "> To contribute to the global effort to combat COVID-19, Diamond has been able to solve a new structure of the SARS-CoV-2 main protease (MPro) at high resolution (PDB ID: 6YB7), and complete a large XChem crystallographic fragment screen against it (detailed below). Data have been deposited with the PDB, but we are making the results available immediately to the world on this page; additional work is ongoing, and updates will be continually posted here in coming days and weeks.\n",
    "\n",
    "https://www.diamond.ac.uk/covid-19/for-scientists/Main-protease-structure-and-XChem.html "
   ]
  },
  {
   "cell_type": "markdown",
   "metadata": {},
   "source": [
    "## Binding site definition"
   ]
  },
  {
   "cell_type": "markdown",
   "metadata": {},
   "source": [
    "Transform the following cell to Code cell if you need to install packages."
   ]
  },
  {
   "cell_type": "raw",
   "metadata": {},
   "source": [
    "!conda install -y -c conda-forge pandas biopython"
   ]
  },
  {
   "cell_type": "code",
   "execution_count": 1,
   "metadata": {},
   "outputs": [],
   "source": [
    "from collections import Counter\n",
    "from pathlib import Path\n",
    "\n",
    "from Bio.PDB import PDBParser, Selection, NeighborSearch\n",
    "import pandas as pd"
   ]
  },
  {
   "cell_type": "markdown",
   "metadata": {},
   "source": [
    "Globals used in this notebook:"
   ]
  },
  {
   "cell_type": "code",
   "execution_count": 2,
   "metadata": {},
   "outputs": [],
   "source": [
    "# Ligand name in dataset (the same name in all structures, thanks!)\n",
    "LIGAND_NAME = 'H_LIG'\n",
    "\n",
    "# Radius from ligand centroid to end of binding site\n",
    "DISTANCE_CUTOFF = 10\n",
    "\n",
    "# Percentage of structures that need to show a certain residue ID in their binding site\n",
    "COVERAGE_CUTOFF = 0.5  "
   ]
  },
  {
   "cell_type": "code",
   "execution_count": 3,
   "metadata": {},
   "outputs": [],
   "source": [
    "# Path to folder with structures\n",
    "STRUCTURE_FOLDER = Path('.') / '..' / 'data' / 'Mpro_All_PDBs'\n",
    "\n",
    "# Get path to all structure files\n",
    "STRUCTURE_PATHS = [pdb for pdb in STRUCTURE_FOLDER.glob('*.pdb')]"
   ]
  },
  {
   "cell_type": "code",
   "execution_count": 4,
   "metadata": {},
   "outputs": [
    {
     "name": "stdout",
     "output_type": "stream",
     "text": [
      "Number of structures: 78\n"
     ]
    }
   ],
   "source": [
    "N_STRUCTURES = len(STRUCTURE_PATHS) \n",
    "print(f'Number of structures: {N_STRUCTURES}')"
   ]
  },
  {
   "cell_type": "markdown",
   "metadata": {},
   "source": [
    "Functions used in this notebook:"
   ]
  },
  {
   "cell_type": "code",
   "execution_count": 5,
   "metadata": {},
   "outputs": [],
   "source": [
    "def get_ligand(chain, ligand_name):\n",
    "    \"\"\"\n",
    "    Get ligand from Diamond structures.\n",
    "    \"\"\"\n",
    "    \n",
    "    for residue in chain.get_residues():\n",
    "        \n",
    "        if residue.full_id[3][0] == ligand_name:\n",
    "            return residue"
   ]
  },
  {
   "cell_type": "code",
   "execution_count": 6,
   "metadata": {},
   "outputs": [],
   "source": [
    "def get_centroid(residue):\n",
    "    \"\"\"\n",
    "    Get centroid for residue atoms.\n",
    "    \"\"\"\n",
    "\n",
    "    coordinates = pd.DataFrame(\n",
    "        [atom.get_coord() for atom in residue.get_atoms()],\n",
    "        columns='x y z'.split()\n",
    "    )\n",
    "\n",
    "    return list(coordinates.mean())"
   ]
  },
  {
   "cell_type": "code",
   "execution_count": 7,
   "metadata": {},
   "outputs": [],
   "source": [
    "def binding_site_residues(structure_path, ligand_name, distance_cutoff):\n",
    "    \"\"\"\n",
    "    Get binding site residues (Biopython objects) from Diamond structure.\n",
    "    \"\"\"\n",
    "    \n",
    "    # Read structure\n",
    "    parser = PDBParser()\n",
    "    structures = parser.get_structure(structure_path.stem, structure_path)\n",
    "\n",
    "    # Extract protein and ligand\n",
    "    protein = structures[0]['A']  # Includes DMS and LIG but egal\n",
    "    ligand = get_ligand(structures[0]['A'], ligand_name)\n",
    "\n",
    "    # Get residues around ligand centroid\n",
    "    atoms  = Selection.unfold_entities(protein, 'A')\n",
    "    ns = NeighborSearch(atoms)\n",
    "    closest_residues = ns.search(get_centroid(ligand), distance_cutoff, 'R')\n",
    "    \n",
    "    return closest_residues"
   ]
  },
  {
   "cell_type": "code",
   "execution_count": 8,
   "metadata": {},
   "outputs": [],
   "source": [
    "def mulitple_binding_site_residue_ids(structure_paths, ligand_name, distance_cutoff):\n",
    "    \"\"\"\n",
    "    Get binding site IDs from a set of Diamond structures.\n",
    "    \"\"\"\n",
    "\n",
    "    residue_ids = {}\n",
    "\n",
    "    for structure_path in structure_paths:\n",
    "\n",
    "        closest_residues = binding_site_residues(structure_path, ligand_name, distance_cutoff)\n",
    "        closest_residue_ids = [residue.full_id[3][1] for residue in closest_residues if residue.full_id[3][0] == ' ']\n",
    "        \n",
    "        residue_ids[structure_path.stem] = closest_residue_ids\n",
    "        \n",
    "    return residue_ids"
   ]
  },
  {
   "cell_type": "code",
   "execution_count": 9,
   "metadata": {},
   "outputs": [],
   "source": [
    "def binding_site_residue_coverage(residue_ids, n_structures, coverage_cutoff):\n",
    "    \"\"\"\n",
    "    Get binding site residues from a set of PDB structures, which are greater or equal to a given coverage cutoff.\n",
    "    \"\"\"\n",
    "    \n",
    "    residue_ids_flat = []\n",
    "    for residues in residue_ids.values():\n",
    "        residue_ids_flat = residue_ids_flat + residues\n",
    "\n",
    "    counter = Counter(residue_ids_flat)\n",
    "    coverage = pd.DataFrame(counter.items(), columns=['residue_id', 'n_structures'])\n",
    "    coverage['coverage'] = coverage.n_structures / n_structures\n",
    "    \n",
    "    return coverage[coverage.coverage >= coverage_cutoff]"
   ]
  },
  {
   "cell_type": "markdown",
   "metadata": {},
   "source": [
    "Get binding site residues passing a defined coverage cutoff."
   ]
  },
  {
   "cell_type": "code",
   "execution_count": 10,
   "metadata": {},
   "outputs": [
    {
     "data": {
      "text/html": [
       "<div>\n",
       "<style scoped>\n",
       "    .dataframe tbody tr th:only-of-type {\n",
       "        vertical-align: middle;\n",
       "    }\n",
       "\n",
       "    .dataframe tbody tr th {\n",
       "        vertical-align: top;\n",
       "    }\n",
       "\n",
       "    .dataframe thead th {\n",
       "        text-align: right;\n",
       "    }\n",
       "</style>\n",
       "<table border=\"1\" class=\"dataframe\">\n",
       "  <thead>\n",
       "    <tr style=\"text-align: right;\">\n",
       "      <th></th>\n",
       "      <th>residue_id</th>\n",
       "      <th>n_structures</th>\n",
       "      <th>coverage</th>\n",
       "    </tr>\n",
       "  </thead>\n",
       "  <tbody>\n",
       "    <tr>\n",
       "      <th>0</th>\n",
       "      <td>142</td>\n",
       "      <td>58</td>\n",
       "      <td>0.743590</td>\n",
       "    </tr>\n",
       "    <tr>\n",
       "      <th>2</th>\n",
       "      <td>42</td>\n",
       "      <td>47</td>\n",
       "      <td>0.602564</td>\n",
       "    </tr>\n",
       "    <tr>\n",
       "      <th>4</th>\n",
       "      <td>49</td>\n",
       "      <td>54</td>\n",
       "      <td>0.692308</td>\n",
       "    </tr>\n",
       "    <tr>\n",
       "      <th>6</th>\n",
       "      <td>141</td>\n",
       "      <td>51</td>\n",
       "      <td>0.653846</td>\n",
       "    </tr>\n",
       "    <tr>\n",
       "      <th>7</th>\n",
       "      <td>26</td>\n",
       "      <td>44</td>\n",
       "      <td>0.564103</td>\n",
       "    </tr>\n",
       "    <tr>\n",
       "      <th>9</th>\n",
       "      <td>143</td>\n",
       "      <td>52</td>\n",
       "      <td>0.666667</td>\n",
       "    </tr>\n",
       "    <tr>\n",
       "      <th>10</th>\n",
       "      <td>164</td>\n",
       "      <td>58</td>\n",
       "      <td>0.743590</td>\n",
       "    </tr>\n",
       "    <tr>\n",
       "      <th>11</th>\n",
       "      <td>145</td>\n",
       "      <td>58</td>\n",
       "      <td>0.743590</td>\n",
       "    </tr>\n",
       "    <tr>\n",
       "      <th>13</th>\n",
       "      <td>41</td>\n",
       "      <td>57</td>\n",
       "      <td>0.730769</td>\n",
       "    </tr>\n",
       "    <tr>\n",
       "      <th>15</th>\n",
       "      <td>44</td>\n",
       "      <td>51</td>\n",
       "      <td>0.653846</td>\n",
       "    </tr>\n",
       "    <tr>\n",
       "      <th>16</th>\n",
       "      <td>25</td>\n",
       "      <td>52</td>\n",
       "      <td>0.666667</td>\n",
       "    </tr>\n",
       "    <tr>\n",
       "      <th>17</th>\n",
       "      <td>166</td>\n",
       "      <td>49</td>\n",
       "      <td>0.628205</td>\n",
       "    </tr>\n",
       "    <tr>\n",
       "      <th>21</th>\n",
       "      <td>163</td>\n",
       "      <td>52</td>\n",
       "      <td>0.666667</td>\n",
       "    </tr>\n",
       "    <tr>\n",
       "      <th>22</th>\n",
       "      <td>46</td>\n",
       "      <td>55</td>\n",
       "      <td>0.705128</td>\n",
       "    </tr>\n",
       "    <tr>\n",
       "      <th>23</th>\n",
       "      <td>27</td>\n",
       "      <td>52</td>\n",
       "      <td>0.666667</td>\n",
       "    </tr>\n",
       "    <tr>\n",
       "      <th>24</th>\n",
       "      <td>189</td>\n",
       "      <td>54</td>\n",
       "      <td>0.692308</td>\n",
       "    </tr>\n",
       "    <tr>\n",
       "      <th>25</th>\n",
       "      <td>45</td>\n",
       "      <td>49</td>\n",
       "      <td>0.628205</td>\n",
       "    </tr>\n",
       "    <tr>\n",
       "      <th>27</th>\n",
       "      <td>144</td>\n",
       "      <td>51</td>\n",
       "      <td>0.653846</td>\n",
       "    </tr>\n",
       "    <tr>\n",
       "      <th>28</th>\n",
       "      <td>165</td>\n",
       "      <td>51</td>\n",
       "      <td>0.653846</td>\n",
       "    </tr>\n",
       "  </tbody>\n",
       "</table>\n",
       "</div>"
      ],
      "text/plain": [
       "    residue_id  n_structures  coverage\n",
       "0          142            58  0.743590\n",
       "2           42            47  0.602564\n",
       "4           49            54  0.692308\n",
       "6          141            51  0.653846\n",
       "7           26            44  0.564103\n",
       "9          143            52  0.666667\n",
       "10         164            58  0.743590\n",
       "11         145            58  0.743590\n",
       "13          41            57  0.730769\n",
       "15          44            51  0.653846\n",
       "16          25            52  0.666667\n",
       "17         166            49  0.628205\n",
       "21         163            52  0.666667\n",
       "22          46            55  0.705128\n",
       "23          27            52  0.666667\n",
       "24         189            54  0.692308\n",
       "25          45            49  0.628205\n",
       "27         144            51  0.653846\n",
       "28         165            51  0.653846"
      ]
     },
     "execution_count": 10,
     "metadata": {},
     "output_type": "execute_result"
    }
   ],
   "source": [
    "residue_ids = mulitple_binding_site_residue_ids(STRUCTURE_PATHS, LIGAND_NAME, DISTANCE_CUTOFF)\n",
    "coverage = binding_site_residue_coverage(residue_ids, N_STRUCTURES, COVERAGE_CUTOFF)\n",
    "coverage"
   ]
  },
  {
   "cell_type": "code",
   "execution_count": null,
   "metadata": {},
   "outputs": [],
   "source": []
  }
 ],
 "metadata": {
  "kernelspec": {
   "display_name": "kinsim",
   "language": "python",
   "name": "kinsim"
  },
  "language_info": {
   "codemirror_mode": {
    "name": "ipython",
    "version": 3
   },
   "file_extension": ".py",
   "mimetype": "text/x-python",
   "name": "python",
   "nbconvert_exporter": "python",
   "pygments_lexer": "ipython3",
   "version": "3.6.7"
  }
 },
 "nbformat": 4,
 "nbformat_minor": 4
}

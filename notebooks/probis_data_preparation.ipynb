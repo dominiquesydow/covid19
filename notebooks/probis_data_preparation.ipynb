{
 "cells": [
  {
   "cell_type": "markdown",
   "metadata": {},
   "source": [
    "# ProBis data preparation"
   ]
  },
  {
   "cell_type": "code",
   "execution_count": 1,
   "metadata": {},
   "outputs": [],
   "source": [
    "from pathlib import Path\n",
    "\n",
    "import pandas as pd\n",
    "\n",
    "from probis_utils import parse_ligand_tables"
   ]
  },
  {
   "cell_type": "markdown",
   "metadata": {},
   "source": [
    "## ProBis tables"
   ]
  },
  {
   "cell_type": "markdown",
   "metadata": {},
   "source": [
    "ProBis ships the results in two `csv` files, i.e. \n",
    "\n",
    "- `simProtTable_XXXXA.csv` (*ProBis protein table*) and\n",
    "- `predlig_XXXXA.csv` (*ProBis ligand table*),\n",
    "\n",
    "where `XXXX` is the PDB ID and `A` the PDB chain."
   ]
  },
  {
   "cell_type": "code",
   "execution_count": 2,
   "metadata": {},
   "outputs": [],
   "source": [
    "PROBIS_FOLDER = Path('.') / '..' / 'data' / 'probis' / 'probis_pocket_15_0.5'\n",
    "\n",
    "PROTEIN_PATH = PROBIS_FOLDER / 'simProtTable_6lu7A.csv'\n",
    "LIGAND_PATH = PROBIS_FOLDER / 'predlig_6lu7A.csv'"
   ]
  },
  {
   "cell_type": "markdown",
   "metadata": {},
   "source": [
    "## ProBis protein table"
   ]
  },
  {
   "cell_type": "markdown",
   "metadata": {},
   "source": [
    "### Parse and save data\n",
    "\n",
    "Not needed, file is ready for direct use!"
   ]
  },
  {
   "cell_type": "markdown",
   "metadata": {},
   "source": [
    "### Load data"
   ]
  },
  {
   "cell_type": "code",
   "execution_count": 3,
   "metadata": {},
   "outputs": [
    {
     "data": {
      "text/html": [
       "<div>\n",
       "<style scoped>\n",
       "    .dataframe tbody tr th:only-of-type {\n",
       "        vertical-align: middle;\n",
       "    }\n",
       "\n",
       "    .dataframe tbody tr th {\n",
       "        vertical-align: top;\n",
       "    }\n",
       "\n",
       "    .dataframe thead th {\n",
       "        text-align: right;\n",
       "    }\n",
       "</style>\n",
       "<table border=\"1\" class=\"dataframe\">\n",
       "  <thead>\n",
       "    <tr style=\"text-align: right;\">\n",
       "      <th></th>\n",
       "      <th>PDB ID</th>\n",
       "      <th>Chain ID</th>\n",
       "      <th>Protein Name</th>\n",
       "      <th>Pfam ID</th>\n",
       "      <th>SCOP ID</th>\n",
       "      <th>UniProt ID</th>\n",
       "      <th>Z-Score</th>\n",
       "    </tr>\n",
       "  </thead>\n",
       "  <tbody>\n",
       "    <tr>\n",
       "      <th>0</th>\n",
       "      <td>4mds</td>\n",
       "      <td>A</td>\n",
       "      <td>3C-LIKE PROTEINASE</td>\n",
       "      <td>PF05409</td>\n",
       "      <td>NaN</td>\n",
       "      <td>P0C6U8</td>\n",
       "      <td>3.97</td>\n",
       "    </tr>\n",
       "    <tr>\n",
       "      <th>1</th>\n",
       "      <td>4wme</td>\n",
       "      <td>A</td>\n",
       "      <td>MERS-COV 3CL PROTEASE</td>\n",
       "      <td>NaN</td>\n",
       "      <td>NaN</td>\n",
       "      <td>NaN</td>\n",
       "      <td>3.83</td>\n",
       "    </tr>\n",
       "    <tr>\n",
       "      <th>2</th>\n",
       "      <td>2yna</td>\n",
       "      <td>A</td>\n",
       "      <td>3C-LIKE PROTEINASE</td>\n",
       "      <td>PF05409</td>\n",
       "      <td>NaN</td>\n",
       "      <td>P0C6T4</td>\n",
       "      <td>3.76</td>\n",
       "    </tr>\n",
       "    <tr>\n",
       "      <th>3</th>\n",
       "      <td>3d23</td>\n",
       "      <td>A</td>\n",
       "      <td>3C-LIKE PROTEINASE</td>\n",
       "      <td>PF05409</td>\n",
       "      <td>NaN</td>\n",
       "      <td>Q0ZJJ1</td>\n",
       "      <td>3.65</td>\n",
       "    </tr>\n",
       "    <tr>\n",
       "      <th>4</th>\n",
       "      <td>2zu2</td>\n",
       "      <td>A</td>\n",
       "      <td>3C-LIKE PROTEINASE</td>\n",
       "      <td>PF05409</td>\n",
       "      <td>NaN</td>\n",
       "      <td>P0C6U2</td>\n",
       "      <td>3.49</td>\n",
       "    </tr>\n",
       "  </tbody>\n",
       "</table>\n",
       "</div>"
      ],
      "text/plain": [
       "  PDB ID Chain ID           Protein Name  Pfam ID SCOP ID UniProt ID  Z-Score\n",
       "0   4mds        A     3C-LIKE PROTEINASE  PF05409     NaN     P0C6U8     3.97\n",
       "1   4wme        A  MERS-COV 3CL PROTEASE      NaN     NaN        NaN     3.83\n",
       "2   2yna        A     3C-LIKE PROTEINASE  PF05409     NaN     P0C6T4     3.76\n",
       "3   3d23        A     3C-LIKE PROTEINASE  PF05409     NaN     Q0ZJJ1     3.65\n",
       "4   2zu2        A     3C-LIKE PROTEINASE  PF05409     NaN     P0C6U2     3.49"
      ]
     },
     "execution_count": 3,
     "metadata": {},
     "output_type": "execute_result"
    }
   ],
   "source": [
    "protein_table = pd.read_csv(PROTEIN_PATH)\n",
    "protein_table.head()"
   ]
  },
  {
   "cell_type": "markdown",
   "metadata": {},
   "source": [
    "### Save UniProt IDs"
   ]
  },
  {
   "cell_type": "code",
   "execution_count": 4,
   "metadata": {},
   "outputs": [
    {
     "data": {
      "text/plain": [
       "62"
      ]
     },
     "execution_count": 4,
     "metadata": {},
     "output_type": "execute_result"
    }
   ],
   "source": [
    "uniprot_ids = protein_table['UniProt ID'].dropna()\n",
    "uniprot_ids.to_csv(f'{PROTEIN_PATH.parent / PROTEIN_PATH.stem}_uniprot_ids.csv', index=False, header=False)\n",
    "len(uniprot_ids)"
   ]
  },
  {
   "cell_type": "markdown",
   "metadata": {},
   "source": [
    "## ProBis ligand table\n",
    "\n",
    "The `predlig_XXXXA.csv` file cannot be read in directly but needs to be parsed and saved as a \"clean\" csv file. So let's first take a look at the file structure.\n",
    "\n",
    "The `predlig_XXXXA.csv` file contains predictions for \n",
    "(i) small molecules `small molecules`, \n",
    "(ii) proteins `proteins`, \n",
    "(iii) nucleic acids `nucleic`, and \n",
    "(iv) ions `ion`,\n",
    "following this content scheme:\n",
    "\n",
    "```\n",
    "Type\tMolecule Name\tResidue Name\tSource\tConfidence\tBinder\n",
    "\n",
    "small molecules\n",
    "Binding Site 1\n",
    "...\n",
    "Binding Site 2\n",
    "...\n",
    "\n",
    "proteins\n",
    "Binding Site 1\n",
    "...\n",
    "Binding Site 2\n",
    "...\n",
    "Binding Site 3\n",
    "...\n",
    "Binding Site 4\n",
    "...\n",
    "\n",
    "nucleic\n",
    "Binding Site 1\n",
    "...\n",
    "Binding Site 2\n",
    "...\n",
    "\n",
    "ion\n",
    "Binding Site 1\n",
    "...\n",
    "```\n",
    "\n",
    "The first line of the file describes:\n",
    "\n",
    "- Type of data available\n",
    "  - `Type`: e.g. `small molecules` > `Binding Site 1`\n",
    "- Tables (this is what `...` refers to in the above scheme) content\n",
    "  - `Molecule Name`\n",
    "  - `Residue Name`: PDB residue ID of small molecule, protein residue, nucleic acid, or ion\n",
    "  - `Source`: PDB ID from which data comes from  \n",
    "  - `Confidence`\n",
    "  - `Binder`"
   ]
  },
  {
   "cell_type": "markdown",
   "metadata": {},
   "source": [
    "### Parse and save data"
   ]
  },
  {
   "cell_type": "code",
   "execution_count": 5,
   "metadata": {},
   "outputs": [],
   "source": [
    "ligand_table = parse_ligand_tables(LIGAND_PATH)\n",
    "ligand_table.to_csv(f'{LIGAND_PATH.parent / LIGAND_PATH.stem}_clean.csv', index=False)"
   ]
  },
  {
   "cell_type": "markdown",
   "metadata": {},
   "source": [
    "### Load data"
   ]
  },
  {
   "cell_type": "code",
   "execution_count": 6,
   "metadata": {},
   "outputs": [
    {
     "data": {
      "text/html": [
       "<div>\n",
       "<style scoped>\n",
       "    .dataframe tbody tr th:only-of-type {\n",
       "        vertical-align: middle;\n",
       "    }\n",
       "\n",
       "    .dataframe tbody tr th {\n",
       "        vertical-align: top;\n",
       "    }\n",
       "\n",
       "    .dataframe thead th {\n",
       "        text-align: right;\n",
       "    }\n",
       "</style>\n",
       "<table border=\"1\" class=\"dataframe\">\n",
       "  <thead>\n",
       "    <tr style=\"text-align: right;\">\n",
       "      <th></th>\n",
       "      <th>Data type</th>\n",
       "      <th>Binding site name</th>\n",
       "      <th>Molecule Name</th>\n",
       "      <th>Residue Name</th>\n",
       "      <th>Source</th>\n",
       "      <th>Confidence</th>\n",
       "      <th>Binder</th>\n",
       "    </tr>\n",
       "  </thead>\n",
       "  <tbody>\n",
       "    <tr>\n",
       "      <th>0</th>\n",
       "      <td>small molecules</td>\n",
       "      <td>Binding Site 1</td>\n",
       "      <td>N-((3S,6R)-6-((S,E)-4-ETHOXYCARBONYL-1-((S)-2-...</td>\n",
       "      <td>CY6</td>\n",
       "      <td>2alv</td>\n",
       "      <td>3.97</td>\n",
       "      <td>Specific</td>\n",
       "    </tr>\n",
       "    <tr>\n",
       "      <th>1</th>\n",
       "      <td>small molecules</td>\n",
       "      <td>Binding Site 1</td>\n",
       "      <td>ETHYL (5S,8S,11R)-8-BENZYL-5-(3-TERT-BUTOXY-3-...</td>\n",
       "      <td>G82</td>\n",
       "      <td>3tiu</td>\n",
       "      <td>3.97</td>\n",
       "      <td>Specific</td>\n",
       "    </tr>\n",
       "    <tr>\n",
       "      <th>2</th>\n",
       "      <td>small molecules</td>\n",
       "      <td>Binding Site 1</td>\n",
       "      <td>(5S,8S,14R)-ETHYL 11-(3-AMINO-3-OXOPROPYL)-8-B...</td>\n",
       "      <td>AZP</td>\n",
       "      <td>2a5i</td>\n",
       "      <td>3.97</td>\n",
       "      <td>Specific</td>\n",
       "    </tr>\n",
       "    <tr>\n",
       "      <th>3</th>\n",
       "      <td>small molecules</td>\n",
       "      <td>Binding Site 1</td>\n",
       "      <td>(5S,8S,14R)-ETHYL 11-(3-AMINO-3-OXOPROPYL)-8-B...</td>\n",
       "      <td>AZP</td>\n",
       "      <td>2a5i</td>\n",
       "      <td>3.97</td>\n",
       "      <td>Specific</td>\n",
       "    </tr>\n",
       "    <tr>\n",
       "      <th>4</th>\n",
       "      <td>small molecules</td>\n",
       "      <td>Binding Site 1</td>\n",
       "      <td>N-[(BENZYLOXY)CARBONYL]-O-TERT-BUTYL-L-THREONY...</td>\n",
       "      <td>ZU5</td>\n",
       "      <td>2zu5</td>\n",
       "      <td>3.97</td>\n",
       "      <td>Specific</td>\n",
       "    </tr>\n",
       "  </tbody>\n",
       "</table>\n",
       "</div>"
      ],
      "text/plain": [
       "         Data type Binding site name  \\\n",
       "0  small molecules    Binding Site 1   \n",
       "1  small molecules    Binding Site 1   \n",
       "2  small molecules    Binding Site 1   \n",
       "3  small molecules    Binding Site 1   \n",
       "4  small molecules    Binding Site 1   \n",
       "\n",
       "                                       Molecule Name Residue Name Source  \\\n",
       "0  N-((3S,6R)-6-((S,E)-4-ETHOXYCARBONYL-1-((S)-2-...          CY6   2alv   \n",
       "1  ETHYL (5S,8S,11R)-8-BENZYL-5-(3-TERT-BUTOXY-3-...          G82   3tiu   \n",
       "2  (5S,8S,14R)-ETHYL 11-(3-AMINO-3-OXOPROPYL)-8-B...          AZP   2a5i   \n",
       "3  (5S,8S,14R)-ETHYL 11-(3-AMINO-3-OXOPROPYL)-8-B...          AZP   2a5i   \n",
       "4  N-[(BENZYLOXY)CARBONYL]-O-TERT-BUTYL-L-THREONY...          ZU5   2zu5   \n",
       "\n",
       "   Confidence    Binder  \n",
       "0        3.97  Specific  \n",
       "1        3.97  Specific  \n",
       "2        3.97  Specific  \n",
       "3        3.97  Specific  \n",
       "4        3.97  Specific  "
      ]
     },
     "execution_count": 6,
     "metadata": {},
     "output_type": "execute_result"
    }
   ],
   "source": [
    "ligand_table = pd.read_csv(f'{LIGAND_PATH.parent / LIGAND_PATH.stem}_clean.csv')\n",
    "ligand_table.head()"
   ]
  },
  {
   "cell_type": "code",
   "execution_count": null,
   "metadata": {},
   "outputs": [],
   "source": []
  }
 ],
 "metadata": {
  "kernelspec": {
   "display_name": "kinsim",
   "language": "python",
   "name": "kinsim"
  },
  "language_info": {
   "codemirror_mode": {
    "name": "ipython",
    "version": 3
   },
   "file_extension": ".py",
   "mimetype": "text/x-python",
   "name": "python",
   "nbconvert_exporter": "python",
   "pygments_lexer": "ipython3",
   "version": "3.6.7"
  }
 },
 "nbformat": 4,
 "nbformat_minor": 4
}

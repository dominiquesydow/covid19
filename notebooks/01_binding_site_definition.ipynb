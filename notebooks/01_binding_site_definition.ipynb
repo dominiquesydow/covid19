{
 "cells": [
  {
   "cell_type": "markdown",
   "metadata": {},
   "source": [
    "# COVID-19: Main protease binding site defined by XChem ligands"
   ]
  },
  {
   "cell_type": "markdown",
   "metadata": {},
   "source": [
    "## Aim of this notebook\n",
    "    \n",
    "- Load all XChem structures in Biopython\n",
    "- Get residues in radius cutoff of ligand centroids\n",
    "- Find overlapping residues across all structures (by residue coverage threshold)"
   ]
  },
  {
   "cell_type": "markdown",
   "metadata": {},
   "source": [
    "## Data\n",
    "\n",
    "> To contribute to the global effort to combat COVID-19, Diamond has been able to solve a new structure of the SARS-CoV-2 main protease (MPro) at high resolution (PDB ID: 6YB7), and complete a large XChem crystallographic fragment screen against it (detailed below). Data have been deposited with the PDB, but we are making the results available immediately to the world on this page; additional work is ongoing, and updates will be continually posted here in coming days and weeks.\n",
    "\n",
    "https://www.diamond.ac.uk/covid-19/for-scientists/Main-protease-structure-and-XChem.html "
   ]
  },
  {
   "cell_type": "markdown",
   "metadata": {},
   "source": [
    "## Binding site definition"
   ]
  },
  {
   "cell_type": "markdown",
   "metadata": {},
   "source": [
    "Transform the following cell to Code cell if you need to install packages."
   ]
  },
  {
   "cell_type": "raw",
   "metadata": {},
   "source": [
    "!conda install -y -c conda-forge pandas biopython"
   ]
  },
  {
   "cell_type": "code",
   "execution_count": 1,
   "metadata": {},
   "outputs": [],
   "source": [
    "from pathlib import Path\n",
    "\n",
    "from binding_site_definition import mulitple_binding_sites_residue_ids, binding_site_residues_by_coverage\n",
    "from binding_site_definition import binding_site_in_pymol, binding_site_in_probis"
   ]
  },
  {
   "cell_type": "markdown",
   "metadata": {},
   "source": [
    "### Parameters"
   ]
  },
  {
   "cell_type": "markdown",
   "metadata": {},
   "source": [
    "- `STRUCTURE_PATHS`: Paths to structures files from Diamond's XChem screen\n",
    "- `LIGAND_NAME`: Ligand name in dataset (the same in all structures, thanks!): `H_LIG`\n",
    "- `distance_cutoff`: Radius from ligand centroid to end of binding site\n",
    "- `coverage_cutoff`: Percentage of structures that need to show a certain residue ID in their binding site"
   ]
  },
  {
   "cell_type": "code",
   "execution_count": 2,
   "metadata": {},
   "outputs": [],
   "source": [
    "# Path to folder with structures\n",
    "STRUCTURE_FOLDER = Path('.') / '..' / 'data' / 'Mpro_All_PDBs'\n",
    "\n",
    "# Get path to all structure files\n",
    "STRUCTURE_PATHS = [pdb for pdb in STRUCTURE_FOLDER.glob('*.pdb')]\n",
    "print(f'Number of structures: {len(STRUCTURE_PATHS) }')"
   ]
  },
  {
   "cell_type": "code",
   "execution_count": 4,
   "metadata": {},
   "outputs": [],
   "source": [
    "LIGAND_NAME = 'H_LIG'"
   ]
  },
  {
   "cell_type": "markdown",
   "metadata": {},
   "source": [
    "### Main function"
   ]
  },
  {
   "cell_type": "code",
   "execution_count": 7,
   "metadata": {},
   "outputs": [],
   "source": [
    "def binding_site_definition(structure_paths, ligand_name, distance_cutoff=15, coverage_cutoff=0.5):\n",
    "    \"\"\"\n",
    "    Get binding site residues seen across all structures within a radius around the structures' ligand centroids.\n",
    "    \n",
    "    Parameters\n",
    "    ----------\n",
    "    structure_paths : list of pathlib.Path\n",
    "        Paths to PDB structures from Diamond's XChem screen.\n",
    "    ligand_name : str\n",
    "        Ligand name\n",
    "    distance_cutoff : int\n",
    "        Radius around ligand centroid in which residues are considered as part of the binding site.\n",
    "    coverage_cutoff : float\n",
    "        Residues are only considered as part of the binding site if they seen in a given ratio of structures (i.e. coverage; between 0 and 1).\n",
    "    \"\"\"\n",
    "    \n",
    "    n_structures = len(structure_paths)\n",
    "    \n",
    "    residue_ids = mulitple_binding_sites_residue_ids(structure_paths, ligand_name, distance_cutoff)\n",
    "    \n",
    "    binding_site = binding_site_residues_by_coverage(residue_ids, n_structures, coverage_cutoff)\n",
    "\n",
    "    print(\n",
    "        f'--- Number of binding site residues: '\n",
    "        f'{len(binding_site)}\\n'\n",
    "    )\n",
    "    print(\n",
    "        f'--- PyMol command to visualize binding site in 6LU7:\\n\\n'\n",
    "        f'{binding_site_in_pymol(binding_site)}\\n'\n",
    "    )\n",
    "    print(\n",
    "        f'--- ProBis command to select binding site:\\n\\n'\n",
    "        f'{binding_site_in_probis(binding_site)}\\n'\n",
    "    )"
   ]
  },
  {
   "cell_type": "markdown",
   "metadata": {},
   "source": [
    "### Parameter set 1"
   ]
  },
  {
   "cell_type": "code",
   "execution_count": 6,
   "metadata": {},
   "outputs": [
    {
     "name": "stdout",
     "output_type": "stream",
     "text": [
      "--- Number of binding site residues: 68\n",
      "\n",
      "--- PyMol command to visualize binding site in 6LU7:\n",
      "\n",
      "fetch 6LU7\n",
      "remove solvent\n",
      "select pocket, 6LU7 and resi 20+21+22+23+24+25+26+27+28+29+37+38+39+40+41+42+43+44+45+46+47+48+49+50+51+52+54+57+61+66+85+86+87+116+117+118+119+120+139+140+141+142+143+144+145+146+147+161+162+163+164+165+166+167+168+170+171+172+173+174+175+181+186+187+188+189+190+192\n",
      "show cartoon\n",
      "hide lines\n",
      "color blue, pocket\n",
      "show lines, pocket\n",
      "\n",
      "--- ProBis command to select binding site:\n",
      "\n",
      ":A and (20,21,22,23,24,25,26,27,28,29,37,38,39,40,41,42,43,44,45,46,47,48,49,50,51,52,54,57,61,66,85,86,87,116,117,118,119,120,139,140,141,142,143,144,145,146,147,161,162,163,164,165,166,167,168,170,171,172,173,174,175,181,186,187,188,189,190,192)\n",
      "\n"
     ]
    }
   ],
   "source": [
    "binding_site_definition(\n",
    "    structure_paths=STRUCTURE_PATHS, \n",
    "    ligand_name=LIGAND_NAME, \n",
    "    distance_cutoff=15, \n",
    "    coverage_cutoff=0.5\n",
    ")"
   ]
  }
 ],
 "metadata": {
  "kernelspec": {
   "display_name": "kinsim",
   "language": "python",
   "name": "kinsim"
  },
  "language_info": {
   "codemirror_mode": {
    "name": "ipython",
    "version": 3
   },
   "file_extension": ".py",
   "mimetype": "text/x-python",
   "name": "python",
   "nbconvert_exporter": "python",
   "pygments_lexer": "ipython3",
   "version": "3.6.7"
  }
 },
 "nbformat": 4,
 "nbformat_minor": 4
}

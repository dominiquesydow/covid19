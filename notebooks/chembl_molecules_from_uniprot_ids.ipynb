{
 "cells": [
  {
   "cell_type": "markdown",
   "metadata": {},
   "source": [
    "# ChEMBL molecules from UniProt IDs"
   ]
  },
  {
   "cell_type": "code",
   "execution_count": 1,
   "metadata": {},
   "outputs": [],
   "source": [
    "%load_ext autoreload\n",
    "%autoreload 2"
   ]
  },
  {
   "cell_type": "raw",
   "metadata": {},
   "source": [
    "!conda install -c conda-forge chembl_webresource_client"
   ]
  },
  {
   "cell_type": "code",
   "execution_count": 2,
   "metadata": {},
   "outputs": [],
   "source": [
    "from pathlib import Path\n",
    "\n",
    "import pandas as pd\n",
    "\n",
    "from chembl_utils import targets_by_uniprot_ids, bioactivities_by_target_chembl_ids, standardize_bioactivities, molecules_by_molecule_chembl_ids"
   ]
  },
  {
   "cell_type": "code",
   "execution_count": 3,
   "metadata": {},
   "outputs": [],
   "source": [
    "PROBIS_FOLDER = Path('.') / '..' / 'data' / 'probis' / 'probis_pocket_15_0.5'\n",
    "UNIPROT_IDS_PATH = PROBIS_FOLDER / 'simProtTable_6lu7A_uniprot_ids.csv'\n",
    "\n",
    "PIC50_CUTOFF = 6.3  # Minimum pIC50 value considered to describe an active molecule"
   ]
  },
  {
   "cell_type": "markdown",
   "metadata": {},
   "source": [
    "## Aim of this notebook\n",
    "\n",
    "Get molecules that are tested as \"active\" against targets with given UniProt IDs. Bioactivity values considered as \"active\" are defined in `PIC50_CUTOFF`.\n",
    "\n",
    "1. Get UniProt IDs\n",
    "2. Get ChEMBL targets by UniProt IDs\n",
    "3 Filter ChEMBL targets \n",
    "  - Only single proteins\n",
    "4. Get ChEMBL bioactivities by target ChEMBL IDs\n",
    "  - Only IC50, assay type B, and exact measurements\n",
    "5. Filter ChEMBL bioactivities by certain criteria \n",
    "  - Only best pIC50 if molecule measured multiple times\n",
    "  - Only \"active\" molecules with pIC50 equal or greater than pIC50 cutoff\n",
    "6. Get ChMEBL molecules by molecule ChEMBL IDs (e.g. SMILES)\n",
    "7. Combine and save molecule and bioactivity data"
   ]
  },
  {
   "cell_type": "markdown",
   "metadata": {},
   "source": [
    "## 1. Get UniProt IDs"
   ]
  },
  {
   "cell_type": "code",
   "execution_count": 4,
   "metadata": {},
   "outputs": [
    {
     "name": "stdout",
     "output_type": "stream",
     "text": [
      "Number of UniProt IDs: 62\n"
     ]
    }
   ],
   "source": [
    "uniprot_ids = pd.read_csv(UNIPROT_IDS_PATH, header=None)[0].to_list()\n",
    "print(f'Number of UniProt IDs: {len(uniprot_ids)}')"
   ]
  },
  {
   "cell_type": "markdown",
   "metadata": {},
   "source": [
    "## 2. Get ChEMBL targets\n",
    "\n",
    "Get target data from ChEMBL that are linked to UniProt IDs."
   ]
  },
  {
   "cell_type": "code",
   "execution_count": 5,
   "metadata": {},
   "outputs": [
    {
     "data": {
      "text/plain": [
       "(27, 5)"
      ]
     },
     "execution_count": 5,
     "metadata": {},
     "output_type": "execute_result"
    }
   ],
   "source": [
    "targets = targets_by_uniprot_ids(uniprot_ids)\n",
    "targets.shape"
   ]
  },
  {
   "cell_type": "markdown",
   "metadata": {},
   "source": [
    "## 3. Filter ChEMBL targets\n",
    "\n",
    "- Use only single proteins (complexes and families might be too unspecific for compound search later)\n",
    "- More?"
   ]
  },
  {
   "cell_type": "code",
   "execution_count": 6,
   "metadata": {},
   "outputs": [
    {
     "data": {
      "text/plain": [
       "target_type\n",
       "PROTEIN COMPLEX                 9\n",
       "PROTEIN FAMILY                  5\n",
       "PROTEIN-PROTEIN INTERACTION     1\n",
       "SINGLE PROTEIN                 12\n",
       "dtype: int64"
      ]
     },
     "execution_count": 6,
     "metadata": {},
     "output_type": "execute_result"
    }
   ],
   "source": [
    "targets.groupby('target_type').size()"
   ]
  },
  {
   "cell_type": "code",
   "execution_count": 7,
   "metadata": {},
   "outputs": [
    {
     "data": {
      "text/plain": [
       "(12, 5)"
      ]
     },
     "execution_count": 7,
     "metadata": {},
     "output_type": "execute_result"
    }
   ],
   "source": [
    "targets = targets[targets.target_type == 'SINGLE PROTEIN']\n",
    "targets.shape"
   ]
  },
  {
   "cell_type": "code",
   "execution_count": 8,
   "metadata": {},
   "outputs": [
    {
     "data": {
      "text/html": [
       "<div>\n",
       "<style scoped>\n",
       "    .dataframe tbody tr th:only-of-type {\n",
       "        vertical-align: middle;\n",
       "    }\n",
       "\n",
       "    .dataframe tbody tr th {\n",
       "        vertical-align: top;\n",
       "    }\n",
       "\n",
       "    .dataframe thead th {\n",
       "        text-align: right;\n",
       "    }\n",
       "</style>\n",
       "<table border=\"1\" class=\"dataframe\">\n",
       "  <thead>\n",
       "    <tr style=\"text-align: right;\">\n",
       "      <th></th>\n",
       "      <th>organism</th>\n",
       "      <th>pref_name</th>\n",
       "      <th>target_chembl_id</th>\n",
       "      <th>target_type</th>\n",
       "      <th>uniprot_id</th>\n",
       "    </tr>\n",
       "  </thead>\n",
       "  <tbody>\n",
       "    <tr>\n",
       "      <th>2</th>\n",
       "      <td>Homo sapiens</td>\n",
       "      <td>Retinoid X receptor alpha</td>\n",
       "      <td>CHEMBL2061</td>\n",
       "      <td>SINGLE PROTEIN</td>\n",
       "      <td>P19793</td>\n",
       "    </tr>\n",
       "    <tr>\n",
       "      <th>15</th>\n",
       "      <td>Homo sapiens</td>\n",
       "      <td>Tyrosine-protein kinase ITK/TSK</td>\n",
       "      <td>CHEMBL2959</td>\n",
       "      <td>SINGLE PROTEIN</td>\n",
       "      <td>Q08881</td>\n",
       "    </tr>\n",
       "    <tr>\n",
       "      <th>1</th>\n",
       "      <td>Human coronavirus NL63</td>\n",
       "      <td>Replicase polyprotein 1a</td>\n",
       "      <td>CHEMBL3232683</td>\n",
       "      <td>SINGLE PROTEIN</td>\n",
       "      <td>P0C6U6</td>\n",
       "    </tr>\n",
       "    <tr>\n",
       "      <th>47</th>\n",
       "      <td>Homo sapiens</td>\n",
       "      <td>Acetyl-CoA carboxylase 1</td>\n",
       "      <td>CHEMBL3351</td>\n",
       "      <td>SINGLE PROTEIN</td>\n",
       "      <td>Q13085</td>\n",
       "    </tr>\n",
       "    <tr>\n",
       "      <th>28</th>\n",
       "      <td>Homo sapiens</td>\n",
       "      <td>POU domain, class 2, transcription factor 2</td>\n",
       "      <td>CHEMBL3509582</td>\n",
       "      <td>SINGLE PROTEIN</td>\n",
       "      <td>P09086</td>\n",
       "    </tr>\n",
       "    <tr>\n",
       "      <th>30</th>\n",
       "      <td>Homo sapiens</td>\n",
       "      <td>Programmed cell death 1 ligand 1</td>\n",
       "      <td>CHEMBL3580522</td>\n",
       "      <td>SINGLE PROTEIN</td>\n",
       "      <td>Q9NZQ7</td>\n",
       "    </tr>\n",
       "    <tr>\n",
       "      <th>14</th>\n",
       "      <td>Homo sapiens</td>\n",
       "      <td>Palmitoleoyl-protein carboxylesterase NOTUM</td>\n",
       "      <td>CHEMBL3714531</td>\n",
       "      <td>SINGLE PROTEIN</td>\n",
       "      <td>Q6P988</td>\n",
       "    </tr>\n",
       "    <tr>\n",
       "      <th>13</th>\n",
       "      <td>Homo sapiens</td>\n",
       "      <td>Cytosolic phospholipase A2</td>\n",
       "      <td>CHEMBL3816</td>\n",
       "      <td>SINGLE PROTEIN</td>\n",
       "      <td>P47712</td>\n",
       "    </tr>\n",
       "    <tr>\n",
       "      <th>0</th>\n",
       "      <td>SARS coronavirus</td>\n",
       "      <td>SARS coronavirus 3C-like proteinase</td>\n",
       "      <td>CHEMBL3927</td>\n",
       "      <td>SINGLE PROTEIN</td>\n",
       "      <td>P0C6U8</td>\n",
       "    </tr>\n",
       "    <tr>\n",
       "      <th>29</th>\n",
       "      <td>Penicillium janthinellum</td>\n",
       "      <td>Penicillopepsin</td>\n",
       "      <td>CHEMBL4254</td>\n",
       "      <td>SINGLE PROTEIN</td>\n",
       "      <td>P00798</td>\n",
       "    </tr>\n",
       "    <tr>\n",
       "      <th>33</th>\n",
       "      <td>Homo sapiens</td>\n",
       "      <td>Phosphodiesterase 10A</td>\n",
       "      <td>CHEMBL4409</td>\n",
       "      <td>SINGLE PROTEIN</td>\n",
       "      <td>Q9Y233</td>\n",
       "    </tr>\n",
       "    <tr>\n",
       "      <th>46</th>\n",
       "      <td>Plasmodium falciparum</td>\n",
       "      <td>Plasmepsin 2</td>\n",
       "      <td>CHEMBL4414</td>\n",
       "      <td>SINGLE PROTEIN</td>\n",
       "      <td>P46925</td>\n",
       "    </tr>\n",
       "  </tbody>\n",
       "</table>\n",
       "</div>"
      ],
      "text/plain": [
       "                    organism                                    pref_name  \\\n",
       "2               Homo sapiens                    Retinoid X receptor alpha   \n",
       "15              Homo sapiens              Tyrosine-protein kinase ITK/TSK   \n",
       "1     Human coronavirus NL63                     Replicase polyprotein 1a   \n",
       "47              Homo sapiens                     Acetyl-CoA carboxylase 1   \n",
       "28              Homo sapiens  POU domain, class 2, transcription factor 2   \n",
       "30              Homo sapiens             Programmed cell death 1 ligand 1   \n",
       "14              Homo sapiens  Palmitoleoyl-protein carboxylesterase NOTUM   \n",
       "13              Homo sapiens                   Cytosolic phospholipase A2   \n",
       "0           SARS coronavirus          SARS coronavirus 3C-like proteinase   \n",
       "29  Penicillium janthinellum                              Penicillopepsin   \n",
       "33              Homo sapiens                        Phosphodiesterase 10A   \n",
       "46     Plasmodium falciparum                                 Plasmepsin 2   \n",
       "\n",
       "   target_chembl_id     target_type uniprot_id  \n",
       "2        CHEMBL2061  SINGLE PROTEIN     P19793  \n",
       "15       CHEMBL2959  SINGLE PROTEIN     Q08881  \n",
       "1     CHEMBL3232683  SINGLE PROTEIN     P0C6U6  \n",
       "47       CHEMBL3351  SINGLE PROTEIN     Q13085  \n",
       "28    CHEMBL3509582  SINGLE PROTEIN     P09086  \n",
       "30    CHEMBL3580522  SINGLE PROTEIN     Q9NZQ7  \n",
       "14    CHEMBL3714531  SINGLE PROTEIN     Q6P988  \n",
       "13       CHEMBL3816  SINGLE PROTEIN     P47712  \n",
       "0        CHEMBL3927  SINGLE PROTEIN     P0C6U8  \n",
       "29       CHEMBL4254  SINGLE PROTEIN     P00798  \n",
       "33       CHEMBL4409  SINGLE PROTEIN     Q9Y233  \n",
       "46       CHEMBL4414  SINGLE PROTEIN     P46925  "
      ]
     },
     "execution_count": 8,
     "metadata": {},
     "output_type": "execute_result"
    }
   ],
   "source": [
    "targets.sort_values('target_chembl_id')"
   ]
  },
  {
   "cell_type": "code",
   "execution_count": 9,
   "metadata": {},
   "outputs": [
    {
     "data": {
      "text/plain": [
       "organism\n",
       "Homo sapiens                8\n",
       "Human coronavirus NL63      1\n",
       "Penicillium janthinellum    1\n",
       "Plasmodium falciparum       1\n",
       "SARS coronavirus            1\n",
       "dtype: int64"
      ]
     },
     "execution_count": 9,
     "metadata": {},
     "output_type": "execute_result"
    }
   ],
   "source": [
    "# Check organisms\n",
    "targets.groupby('organism').size()"
   ]
  },
  {
   "cell_type": "markdown",
   "metadata": {},
   "source": [
    "## 4. Get ChEMBL bioactivities\n",
    "\n",
    "Get bioactivity data from ChEMBL that are linked to the target ChEMBL IDs."
   ]
  },
  {
   "cell_type": "code",
   "execution_count": 10,
   "metadata": {},
   "outputs": [
    {
     "name": "stdout",
     "output_type": "stream",
     "text": [
      "Progress: 0/12\n",
      "Progress: 10/12\n"
     ]
    },
    {
     "data": {
      "text/plain": [
       "(5913, 11)"
      ]
     },
     "execution_count": 10,
     "metadata": {},
     "output_type": "execute_result"
    }
   ],
   "source": [
    "bioactivities = bioactivities_by_target_chembl_ids(targets.target_chembl_id)\n",
    "bioactivities.shape"
   ]
  },
  {
   "cell_type": "code",
   "execution_count": 11,
   "metadata": {},
   "outputs": [
    {
     "data": {
      "text/plain": [
       "(5913, 12)"
      ]
     },
     "execution_count": 11,
     "metadata": {},
     "output_type": "execute_result"
    }
   ],
   "source": [
    "# Standardize bioactivities (convert IC50 values to nM and calculate pIC50)\n",
    "bioactivities = standardize_bioactivities(bioactivities)\n",
    "bioactivities.shape"
   ]
  },
  {
   "cell_type": "markdown",
   "metadata": {},
   "source": [
    "## 5. Filter ChEMBL bioactivities\n",
    "\n",
    "### Filter only for entries reaching a defined bioactivity threshold"
   ]
  },
  {
   "cell_type": "code",
   "execution_count": 12,
   "metadata": {},
   "outputs": [
    {
     "data": {
      "text/plain": [
       "(4606, 12)"
      ]
     },
     "execution_count": 12,
     "metadata": {},
     "output_type": "execute_result"
    }
   ],
   "source": [
    "bioactivities_active = bioactivities[bioactivities.pIC50 >= PIC50_CUTOFF]\n",
    "bioactivities_active.shape"
   ]
  },
  {
   "cell_type": "markdown",
   "metadata": {},
   "source": [
    "### Some molecules have multiple bioactivity measures, keep here only best measurement."
   ]
  },
  {
   "cell_type": "code",
   "execution_count": 13,
   "metadata": {},
   "outputs": [
    {
     "data": {
      "text/plain": [
       "(4121, 12)"
      ]
     },
     "execution_count": 13,
     "metadata": {},
     "output_type": "execute_result"
    }
   ],
   "source": [
    "bioactivities_active = bioactivities_active.sort_values(\n",
    "    ['molecule_chembl_id', 'pIC50'], \n",
    "    ascending=False\n",
    ")\n",
    "\n",
    "bioactivities_active.drop_duplicates(\n",
    "    'molecule_chembl_id',\n",
    "    keep='first',\n",
    "    inplace=True\n",
    ")\n",
    "bioactivities_active.shape"
   ]
  },
  {
   "cell_type": "code",
   "execution_count": 14,
   "metadata": {},
   "outputs": [
    {
     "data": {
      "text/html": [
       "<div>\n",
       "<style scoped>\n",
       "    .dataframe tbody tr th:only-of-type {\n",
       "        vertical-align: middle;\n",
       "    }\n",
       "\n",
       "    .dataframe tbody tr th {\n",
       "        vertical-align: top;\n",
       "    }\n",
       "\n",
       "    .dataframe thead th {\n",
       "        text-align: right;\n",
       "    }\n",
       "</style>\n",
       "<table border=\"1\" class=\"dataframe\">\n",
       "  <thead>\n",
       "    <tr style=\"text-align: right;\">\n",
       "      <th></th>\n",
       "      <th>activity_id</th>\n",
       "      <th>assay_chembl_id</th>\n",
       "      <th>assay_description</th>\n",
       "      <th>assay_type</th>\n",
       "      <th>molecule_chembl_id</th>\n",
       "      <th>relation</th>\n",
       "      <th>target_chembl_id</th>\n",
       "      <th>target_organism</th>\n",
       "      <th>type</th>\n",
       "      <th>units</th>\n",
       "      <th>IC50</th>\n",
       "      <th>pIC50</th>\n",
       "    </tr>\n",
       "  </thead>\n",
       "  <tbody>\n",
       "    <tr>\n",
       "      <th>2</th>\n",
       "      <td>278634</td>\n",
       "      <td>CHEMBL764691</td>\n",
       "      <td>In vitro concentration required for inhibition...</td>\n",
       "      <td>B</td>\n",
       "      <td>CHEMBL98043</td>\n",
       "      <td>=</td>\n",
       "      <td>CHEMBL4414</td>\n",
       "      <td>Plasmodium falciparum</td>\n",
       "      <td>IC50</td>\n",
       "      <td>nM</td>\n",
       "      <td>123.0</td>\n",
       "      <td>6.910095</td>\n",
       "    </tr>\n",
       "    <tr>\n",
       "      <th>12</th>\n",
       "      <td>666081</td>\n",
       "      <td>CHEMBL820842</td>\n",
       "      <td>Inhibition of Human cPLA2 alpha using Enzyme a...</td>\n",
       "      <td>B</td>\n",
       "      <td>CHEMBL9277</td>\n",
       "      <td>=</td>\n",
       "      <td>CHEMBL3816</td>\n",
       "      <td>Homo sapiens</td>\n",
       "      <td>IC50</td>\n",
       "      <td>nM</td>\n",
       "      <td>78.0</td>\n",
       "      <td>7.107905</td>\n",
       "    </tr>\n",
       "    <tr>\n",
       "      <th>2</th>\n",
       "      <td>638119</td>\n",
       "      <td>CHEMBL820842</td>\n",
       "      <td>Inhibition of Human cPLA2 alpha using Enzyme a...</td>\n",
       "      <td>B</td>\n",
       "      <td>CHEMBL9161</td>\n",
       "      <td>=</td>\n",
       "      <td>CHEMBL3816</td>\n",
       "      <td>Homo sapiens</td>\n",
       "      <td>IC50</td>\n",
       "      <td>nM</td>\n",
       "      <td>2.1</td>\n",
       "      <td>8.677781</td>\n",
       "    </tr>\n",
       "    <tr>\n",
       "      <th>3</th>\n",
       "      <td>639330</td>\n",
       "      <td>CHEMBL820842</td>\n",
       "      <td>Inhibition of Human cPLA2 alpha using Enzyme a...</td>\n",
       "      <td>B</td>\n",
       "      <td>CHEMBL9021</td>\n",
       "      <td>=</td>\n",
       "      <td>CHEMBL3816</td>\n",
       "      <td>Homo sapiens</td>\n",
       "      <td>IC50</td>\n",
       "      <td>nM</td>\n",
       "      <td>420.0</td>\n",
       "      <td>6.376751</td>\n",
       "    </tr>\n",
       "    <tr>\n",
       "      <th>8</th>\n",
       "      <td>650073</td>\n",
       "      <td>CHEMBL820842</td>\n",
       "      <td>Inhibition of Human cPLA2 alpha using Enzyme a...</td>\n",
       "      <td>B</td>\n",
       "      <td>CHEMBL8973</td>\n",
       "      <td>=</td>\n",
       "      <td>CHEMBL3816</td>\n",
       "      <td>Homo sapiens</td>\n",
       "      <td>IC50</td>\n",
       "      <td>nM</td>\n",
       "      <td>5.3</td>\n",
       "      <td>8.275724</td>\n",
       "    </tr>\n",
       "  </tbody>\n",
       "</table>\n",
       "</div>"
      ],
      "text/plain": [
       "    activity_id assay_chembl_id  \\\n",
       "2        278634    CHEMBL764691   \n",
       "12       666081    CHEMBL820842   \n",
       "2        638119    CHEMBL820842   \n",
       "3        639330    CHEMBL820842   \n",
       "8        650073    CHEMBL820842   \n",
       "\n",
       "                                    assay_description assay_type  \\\n",
       "2   In vitro concentration required for inhibition...          B   \n",
       "12  Inhibition of Human cPLA2 alpha using Enzyme a...          B   \n",
       "2   Inhibition of Human cPLA2 alpha using Enzyme a...          B   \n",
       "3   Inhibition of Human cPLA2 alpha using Enzyme a...          B   \n",
       "8   Inhibition of Human cPLA2 alpha using Enzyme a...          B   \n",
       "\n",
       "   molecule_chembl_id relation target_chembl_id        target_organism  type  \\\n",
       "2         CHEMBL98043        =       CHEMBL4414  Plasmodium falciparum  IC50   \n",
       "12         CHEMBL9277        =       CHEMBL3816           Homo sapiens  IC50   \n",
       "2          CHEMBL9161        =       CHEMBL3816           Homo sapiens  IC50   \n",
       "3          CHEMBL9021        =       CHEMBL3816           Homo sapiens  IC50   \n",
       "8          CHEMBL8973        =       CHEMBL3816           Homo sapiens  IC50   \n",
       "\n",
       "   units   IC50     pIC50  \n",
       "2     nM  123.0  6.910095  \n",
       "12    nM   78.0  7.107905  \n",
       "2     nM    2.1  8.677781  \n",
       "3     nM  420.0  6.376751  \n",
       "8     nM    5.3  8.275724  "
      ]
     },
     "execution_count": 14,
     "metadata": {},
     "output_type": "execute_result"
    }
   ],
   "source": [
    "bioactivities_active.head()"
   ]
  },
  {
   "cell_type": "markdown",
   "metadata": {},
   "source": [
    "## 6. Get ChEMBL molecules"
   ]
  },
  {
   "cell_type": "code",
   "execution_count": 15,
   "metadata": {},
   "outputs": [
    {
     "name": "stdout",
     "output_type": "stream",
     "text": [
      "Progress 2020-03-25 17:25:28.001834: 0/4121\n",
      "Progress 2020-03-25 17:25:32.704314: 1000/4121\n",
      "Progress 2020-03-25 17:25:37.196284: 2000/4121\n",
      "Progress 2020-03-25 17:25:41.154708: 3000/4121\n",
      "Progress 2020-03-25 17:25:45.087334: 4000/4121\n"
     ]
    },
    {
     "data": {
      "text/plain": [
       "(4121, 4)"
      ]
     },
     "execution_count": 15,
     "metadata": {},
     "output_type": "execute_result"
    }
   ],
   "source": [
    "molecules = molecules_by_molecule_chembl_ids(bioactivities_active.molecule_chembl_id)\n",
    "molecules.shape"
   ]
  },
  {
   "cell_type": "markdown",
   "metadata": {},
   "source": [
    "## 7. Combine and save molecule/bioactivity/target data"
   ]
  },
  {
   "cell_type": "code",
   "execution_count": 16,
   "metadata": {},
   "outputs": [
    {
     "data": {
      "text/plain": [
       "(4121, 15)"
      ]
     },
     "execution_count": 16,
     "metadata": {},
     "output_type": "execute_result"
    }
   ],
   "source": [
    "dataset = pd.merge(\n",
    "    bioactivities_active, \n",
    "    molecules, \n",
    "    on='molecule_chembl_id',\n",
    "    how='left'\n",
    ")\n",
    "dataset.shape"
   ]
  },
  {
   "cell_type": "code",
   "execution_count": 17,
   "metadata": {},
   "outputs": [
    {
     "data": {
      "text/plain": [
       "(4121, 19)"
      ]
     },
     "execution_count": 17,
     "metadata": {},
     "output_type": "execute_result"
    }
   ],
   "source": [
    "dataset = pd.merge(\n",
    "    dataset, \n",
    "    targets, \n",
    "    on='target_chembl_id',\n",
    "    how='left'\n",
    ")\n",
    "dataset.shape"
   ]
  },
  {
   "cell_type": "code",
   "execution_count": 18,
   "metadata": {},
   "outputs": [],
   "source": [
    "dataset.to_csv(UNIPROT_IDS_PATH.parent / 'chembl_molecules_by_uniprot_ids.csv', index=False)"
   ]
  },
  {
   "cell_type": "code",
   "execution_count": null,
   "metadata": {},
   "outputs": [],
   "source": []
  }
 ],
 "metadata": {
  "kernelspec": {
   "display_name": "kinsim",
   "language": "python",
   "name": "kinsim"
  },
  "language_info": {
   "codemirror_mode": {
    "name": "ipython",
    "version": 3
   },
   "file_extension": ".py",
   "mimetype": "text/x-python",
   "name": "python",
   "nbconvert_exporter": "python",
   "pygments_lexer": "ipython3",
   "version": "3.6.7"
  }
 },
 "nbformat": 4,
 "nbformat_minor": 4
}
